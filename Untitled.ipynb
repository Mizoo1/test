{
 "cells": [
  {
   "cell_type": "code",
   "execution_count": 6,
   "id": "4bd7213b-0eec-44de-a1d2-eb66108fd0f3",
   "metadata": {},
   "outputs": [
    {
     "name": "stdout",
     "output_type": "stream",
     "text": [
      "Hallo Welt\n",
      "Hallo Nour\n"
     ]
    }
   ],
   "source": [
    "print(\"Hallo Welt\")\n",
    "print(\"Hallo Nour\")\n",
    "\n",
    "# Hallo Welt Projekt\n",
    "\n",
    "##Dieses Jupyter Notebook demonstriert, wie man einfache Print-Befehle in Python ausführt. Das Ziel ist, die grundlegende Funktionsweise von Python-Print-Befehlen zu verstehen und wie sie zur Ausgabe von Text in der Konsole verwendet werden können.\n",
    "\n",
    "## Code Erklärung\n",
    "\n",
    "##Der Code enthält zwei Print-Befehle:\n",
    "#- `print(\"Hallo Welt\")`: Gibt den Text \"Hallo Welt\" aus.\n",
    "#- `print(\"Hallo Nour\")`: Gibt den Text \"Hallo Nour\" aus.\n",
    "\n",
    "#Führen Sie die obige Zelle aus, um die Ergebnisse zu sehen.\n"
   ]
  },
  {
   "cell_type": "code",
   "execution_count": null,
   "id": "e2f99641-f843-4dee-a12d-493ae59b837b",
   "metadata": {},
   "outputs": [],
   "source": []
  }
 ],
 "metadata": {
  "kernelspec": {
   "display_name": "Python 3 (ipykernel)",
   "language": "python",
   "name": "python3"
  },
  "language_info": {
   "codemirror_mode": {
    "name": "ipython",
    "version": 3
   },
   "file_extension": ".py",
   "mimetype": "text/x-python",
   "name": "python",
   "nbconvert_exporter": "python",
   "pygments_lexer": "ipython3",
   "version": "3.11.5"
  }
 },
 "nbformat": 4,
 "nbformat_minor": 5
}
